{
 "cells": [
  {
   "attachments": {},
   "cell_type": "markdown",
   "metadata": {},
   "source": [
    "# Example usage\n",
    "\n",
    "Here we will demonstrate how to use `nomiden` "
   ]
  },
  {
   "attachments": {},
   "cell_type": "markdown",
   "metadata": {},
   "source": [
    "## Checking package version"
   ]
  },
  {
   "cell_type": "code",
   "execution_count": null,
   "metadata": {},
   "outputs": [],
   "source": [
    "import nomiden\n",
    "\n",
    "nomiden.__version__"
   ]
  },
  {
   "attachments": {},
   "cell_type": "markdown",
   "metadata": {},
   "source": [
    "## To use `nomiden` in a project"
   ]
  },
  {
   "cell_type": "code",
   "execution_count": null,
   "metadata": {},
   "outputs": [],
   "source": [
    "from nomiden import reader as nr"
   ]
  },
  {
   "attachments": {},
   "cell_type": "markdown",
   "metadata": {},
   "source": [
    "### Retreive NIK (Nomor Induk Kependudukan) information\n",
    "\n",
    "First you will need to make a NIK object by passing the NIK number as an input parameter. NIK number can have the type `str` or `int`."
   ]
  },
  {
   "cell_type": "code",
   "execution_count": null,
   "metadata": {},
   "outputs": [],
   "source": [
    "# int NIK number\n",
    "id_nik = nr.NIK(1111111111111111)\n",
    "\n",
    "# str NIK number\n",
    "id_nik = nr.NIK(\"1111111111111111\")"
   ]
  },
  {
   "attachments": {},
   "cell_type": "markdown",
   "metadata": {},
   "source": [
    "Next, you can retreive individual informations by calling its attributes."
   ]
  },
  {
   "cell_type": "code",
   "execution_count": null,
   "metadata": {},
   "outputs": [],
   "source": [
    "# Get province\n",
    "id_nik.province"
   ]
  },
  {
   "cell_type": "code",
   "execution_count": null,
   "metadata": {},
   "outputs": [],
   "source": [
    "# Get city\n",
    "id_nik.city"
   ]
  },
  {
   "cell_type": "code",
   "execution_count": null,
   "metadata": {},
   "outputs": [],
   "source": [
    "# Get district\n",
    "id_nik.district"
   ]
  },
  {
   "cell_type": "code",
   "execution_count": null,
   "metadata": {},
   "outputs": [],
   "source": [
    "# Get gender\n",
    "id_nik.gender"
   ]
  },
  {
   "cell_type": "code",
   "execution_count": null,
   "metadata": {},
   "outputs": [],
   "source": [
    "# Get birth date (date of the month)\n",
    "id_nik.birthdate"
   ]
  },
  {
   "cell_type": "code",
   "execution_count": null,
   "metadata": {},
   "outputs": [],
   "source": [
    "# Get birth month \n",
    "id_nik.birthmonth"
   ]
  },
  {
   "cell_type": "code",
   "execution_count": null,
   "metadata": {},
   "outputs": [],
   "source": [
    "# Get birth year\n",
    "id_nik.birthyear"
   ]
  },
  {
   "cell_type": "code",
   "execution_count": null,
   "metadata": {},
   "outputs": [],
   "source": [
    "# Get birth datetime\n",
    "id_nik.birthdtm"
   ]
  },
  {
   "cell_type": "code",
   "execution_count": null,
   "metadata": {},
   "outputs": [],
   "source": [
    "# Get complete birthday as a string\n",
    "id_nik.birthday"
   ]
  },
  {
   "cell_type": "code",
   "execution_count": null,
   "metadata": {},
   "outputs": [],
   "source": [
    "# Get age\n",
    "id_nik.age"
   ]
  },
  {
   "cell_type": "code",
   "execution_count": null,
   "metadata": {},
   "outputs": [],
   "source": [
    "# Get registration code\n",
    "id_nik.nth_person"
   ]
  },
  {
   "attachments": {},
   "cell_type": "markdown",
   "metadata": {},
   "source": [
    "Or you can also get all informations as a dictionary"
   ]
  },
  {
   "cell_type": "code",
   "execution_count": null,
   "metadata": {},
   "outputs": [],
   "source": [
    "# Get all informations\n",
    "id_nik.all_info"
   ]
  },
  {
   "attachments": {},
   "cell_type": "markdown",
   "metadata": {},
   "source": [
    "### Retreive KK (Kartu Keluarga) information\n",
    "\n",
    "Similar to NIK, you will need to make a KK object by passing the KK number as an input parameter. KK number can have the type `str` or `int`."
   ]
  },
  {
   "cell_type": "code",
   "execution_count": null,
   "metadata": {},
   "outputs": [],
   "source": [
    "# int NIK number\n",
    "id_kk = nr.KK(1111111111111111)\n",
    "\n",
    "# str NIK number\n",
    "id_kk = nr.KK(\"1111111111111111\")"
   ]
  },
  {
   "attachments": {},
   "cell_type": "markdown",
   "metadata": {},
   "source": [
    "Next, you can retreive individual informations by calling its attributes. \n",
    "\n",
    "> **Note**: KK number does not contain gender and age information, since it is a family ID number, not a personal one. KK also does not contain any birth information, but it does contain registration informations."
   ]
  },
  {
   "cell_type": "code",
   "execution_count": null,
   "metadata": {},
   "outputs": [],
   "source": [
    "# Get province\n",
    "id_kk.province"
   ]
  },
  {
   "cell_type": "code",
   "execution_count": null,
   "metadata": {},
   "outputs": [],
   "source": [
    "# Get city\n",
    "id_kk.city"
   ]
  },
  {
   "cell_type": "code",
   "execution_count": null,
   "metadata": {},
   "outputs": [],
   "source": [
    "# Get district\n",
    "id_kk.district"
   ]
  },
  {
   "cell_type": "code",
   "execution_count": null,
   "metadata": {},
   "outputs": [],
   "source": [
    "# Get registration date (date of the month)\n",
    "id_kk.regdate"
   ]
  },
  {
   "cell_type": "code",
   "execution_count": null,
   "metadata": {},
   "outputs": [],
   "source": [
    "# Get registration month \n",
    "id_kk.regmonth"
   ]
  },
  {
   "cell_type": "code",
   "execution_count": null,
   "metadata": {},
   "outputs": [],
   "source": [
    "# Get registration year\n",
    "id_kk.regyear"
   ]
  },
  {
   "cell_type": "code",
   "execution_count": null,
   "metadata": {},
   "outputs": [],
   "source": [
    "# Get registration datetime\n",
    "id_kk.regdtm"
   ]
  },
  {
   "cell_type": "code",
   "execution_count": null,
   "metadata": {},
   "outputs": [],
   "source": [
    "# Get complete registration day as a string\n",
    "id_kk.regday"
   ]
  },
  {
   "cell_type": "code",
   "execution_count": null,
   "metadata": {},
   "outputs": [],
   "source": [
    "# Get registration code\n",
    "id_kk.nth_pub"
   ]
  },
  {
   "cell_type": "markdown",
   "metadata": {},
   "source": [
    "Or you can also get all informations as a dictionary"
   ]
  },
  {
   "cell_type": "code",
   "execution_count": null,
   "metadata": {},
   "outputs": [],
   "source": [
    "# Get all informations\n",
    "id_kk.all_info"
   ]
  },
  {
   "attachments": {},
   "cell_type": "markdown",
   "metadata": {},
   "source": [
    "### Usage for Pandas Series input\n",
    "\n",
    "If you have a Series of IDs you would like to retrieve information from, you can use Pandas' `.apply()` method along with `lambda` function."
   ]
  },
  {
   "cell_type": "code",
   "execution_count": null,
   "metadata": {},
   "outputs": [],
   "source": [
    "import pandas as pd\n",
    "\n",
    "# Make a dummy DataFrame\n",
    "nik_list = [\"1111111111111111\", \"1111111111111112\"]\n",
    "df = pd.DataFrame({'id_nik': nik_list})\n",
    "\n",
    "# Get province and save it to a new column\n",
    "df['prov'] = df['id_nik'].apply(lambda x: nr.NIK(x).province)\n",
    "df"
   ]
  },
  {
   "cell_type": "markdown",
   "metadata": {},
   "source": [
    "#### Making a DataFrame from a Series input\n",
    "\n",
    "Since `.all_info` attribute returns a dictionary, you can convert it into Pandas DataFrame."
   ]
  },
  {
   "cell_type": "code",
   "execution_count": null,
   "metadata": {},
   "outputs": [],
   "source": [
    "df_allinfo = pd.DataFrame(df['id_nik'].apply(lambda x: nr.NIK(x).all_info).tolist())\n",
    "df_allinfo"
   ]
  }
 ],
 "metadata": {
  "kernelspec": {
   "display_name": "nomiden",
   "language": "python",
   "name": "python3"
  },
  "language_info": {
   "codemirror_mode": {
    "name": "ipython",
    "version": 3
   },
   "file_extension": ".py",
   "mimetype": "text/x-python",
   "name": "python",
   "nbconvert_exporter": "python",
   "pygments_lexer": "ipython3",
   "version": "3.10.8"
  },
  "orig_nbformat": 4,
  "vscode": {
   "interpreter": {
    "hash": "ee81c946c1cf52c76ee09fcf69ca378c40131232dfcbdfa105acdcb701ec7bca"
   }
  }
 },
 "nbformat": 4,
 "nbformat_minor": 2
}

{
 "cells": [
  {
   "cell_type": "code",
   "execution_count": 1,
   "metadata": {},
   "outputs": [],
   "source": [
    "import pandas as pd"
   ]
  },
  {
   "cell_type": "code",
   "execution_count": 10,
   "metadata": {},
   "outputs": [],
   "source": [
    "regioncode = pd.read_csv('https://raw.githubusercontent.com/kodewilayah/permendagri-72-2019/main/dist/base.csv',\n",
    "header=None)"
   ]
  },
  {
   "cell_type": "code",
   "execution_count": 11,
   "metadata": {},
   "outputs": [
    {
     "data": {
      "text/html": [
       "<div>\n",
       "<style scoped>\n",
       "    .dataframe tbody tr th:only-of-type {\n",
       "        vertical-align: middle;\n",
       "    }\n",
       "\n",
       "    .dataframe tbody tr th {\n",
       "        vertical-align: top;\n",
       "    }\n",
       "\n",
       "    .dataframe thead th {\n",
       "        text-align: right;\n",
       "    }\n",
       "</style>\n",
       "<table border=\"1\" class=\"dataframe\">\n",
       "  <thead>\n",
       "    <tr style=\"text-align: right;\">\n",
       "      <th></th>\n",
       "      <th>code</th>\n",
       "      <th>region</th>\n",
       "    </tr>\n",
       "  </thead>\n",
       "  <tbody>\n",
       "    <tr>\n",
       "      <th>0</th>\n",
       "      <td>11</td>\n",
       "      <td>ACEH</td>\n",
       "    </tr>\n",
       "    <tr>\n",
       "      <th>1</th>\n",
       "      <td>11.01</td>\n",
       "      <td>KAB. ACEH SELATAN</td>\n",
       "    </tr>\n",
       "    <tr>\n",
       "      <th>2</th>\n",
       "      <td>11.01.01</td>\n",
       "      <td>Bakongan</td>\n",
       "    </tr>\n",
       "    <tr>\n",
       "      <th>3</th>\n",
       "      <td>11.01.01.2001</td>\n",
       "      <td>Keude Bakongan</td>\n",
       "    </tr>\n",
       "    <tr>\n",
       "      <th>4</th>\n",
       "      <td>11.01.01.2002</td>\n",
       "      <td>Ujong Mangki</td>\n",
       "    </tr>\n",
       "    <tr>\n",
       "      <th>...</th>\n",
       "      <td>...</td>\n",
       "      <td>...</td>\n",
       "    </tr>\n",
       "    <tr>\n",
       "      <th>91215</th>\n",
       "      <td>92.71.10</td>\n",
       "      <td>Maladum Mes</td>\n",
       "    </tr>\n",
       "    <tr>\n",
       "      <th>91216</th>\n",
       "      <td>92.71.10.1001</td>\n",
       "      <td>Suprau</td>\n",
       "    </tr>\n",
       "    <tr>\n",
       "      <th>91217</th>\n",
       "      <td>92.71.10.1002</td>\n",
       "      <td>Tampa Garam</td>\n",
       "    </tr>\n",
       "    <tr>\n",
       "      <th>91218</th>\n",
       "      <td>92.71.10.1003</td>\n",
       "      <td>Saoka</td>\n",
       "    </tr>\n",
       "    <tr>\n",
       "      <th>91219</th>\n",
       "      <td>92.71.10.1004</td>\n",
       "      <td>Tanjung Kasuari</td>\n",
       "    </tr>\n",
       "  </tbody>\n",
       "</table>\n",
       "<p>91220 rows × 2 columns</p>\n",
       "</div>"
      ],
      "text/plain": [
       "                code             region\n",
       "0                 11               ACEH\n",
       "1              11.01  KAB. ACEH SELATAN\n",
       "2           11.01.01           Bakongan\n",
       "3      11.01.01.2001     Keude Bakongan\n",
       "4      11.01.01.2002       Ujong Mangki\n",
       "...              ...                ...\n",
       "91215       92.71.10        Maladum Mes\n",
       "91216  92.71.10.1001             Suprau\n",
       "91217  92.71.10.1002        Tampa Garam\n",
       "91218  92.71.10.1003              Saoka\n",
       "91219  92.71.10.1004    Tanjung Kasuari\n",
       "\n",
       "[91220 rows x 2 columns]"
      ]
     },
     "execution_count": 11,
     "metadata": {},
     "output_type": "execute_result"
    }
   ],
   "source": [
    "regioncode.columns = ['code', 'region']\n",
    "regioncode"
   ]
  },
  {
   "cell_type": "code",
   "execution_count": 29,
   "metadata": {},
   "outputs": [
    {
     "data": {
      "text/plain": [
       "'KAB. ACEH SELATAN'"
      ]
     },
     "execution_count": 29,
     "metadata": {},
     "output_type": "execute_result"
    }
   ],
   "source": [
    "aceh_selatan = regioncode[regioncode['code'] == '11.01']['region'].item()\n",
    "aceh_selatan"
   ]
  }
 ],
 "metadata": {
  "kernelspec": {
   "display_name": "Python 3.10.8 ('nomiden')",
   "language": "python",
   "name": "python3"
  },
  "language_info": {
   "codemirror_mode": {
    "name": "ipython",
    "version": 3
   },
   "file_extension": ".py",
   "mimetype": "text/x-python",
   "name": "python",
   "nbconvert_exporter": "python",
   "pygments_lexer": "ipython3",
   "version": "3.10.8"
  },
  "orig_nbformat": 4,
  "vscode": {
   "interpreter": {
    "hash": "ee81c946c1cf52c76ee09fcf69ca378c40131232dfcbdfa105acdcb701ec7bca"
   }
  }
 },
 "nbformat": 4,
 "nbformat_minor": 2
}
